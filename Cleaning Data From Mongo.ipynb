{
 "cells": [
  {
   "cell_type": "code",
   "execution_count": 1,
   "metadata": {},
   "outputs": [],
   "source": [
    "from pymongo import MongoClient"
   ]
  },
  {
   "cell_type": "code",
   "execution_count": 2,
   "metadata": {},
   "outputs": [],
   "source": [
    "client = MongoClient()\n",
    "database = client['hockey_stats']\n",
    "nhl_mongo_collection = database['nhl']\n",
    "espn_mongo_collection = database['espn']"
   ]
  },
  {
   "cell_type": "code",
   "execution_count": 3,
   "metadata": {},
   "outputs": [
    {
     "data": {
      "text/plain": [
       "Collection(Database(MongoClient(host=['localhost:27017'], document_class=dict, tz_aware=False, connect=True), 'hockey_stats'), 'nhl')"
      ]
     },
     "execution_count": 3,
     "metadata": {},
     "output_type": "execute_result"
    }
   ],
   "source": [
    "nhl_mongo_collection"
   ]
  },
  {
   "cell_type": "code",
   "execution_count": 10,
   "metadata": {},
   "outputs": [],
   "source": [
    "nhl_cursor = nhl_mongo_collection.find()"
   ]
  },
  {
   "cell_type": "code",
   "execution_count": 12,
   "metadata": {},
   "outputs": [],
   "source": [
    "nhl_list = list(nhl_cursor)"
   ]
  },
  {
   "cell_type": "code",
   "execution_count": 14,
   "metadata": {},
   "outputs": [
    {
     "data": {
      "text/plain": [
       "8762"
      ]
     },
     "execution_count": 14,
     "metadata": {},
     "output_type": "execute_result"
    }
   ],
   "source": [
    "len(nhl_list)"
   ]
  },
  {
   "cell_type": "code",
   "execution_count": 16,
   "metadata": {},
   "outputs": [],
   "source": [
    "del nhl_list[0]"
   ]
  },
  {
   "cell_type": "code",
   "execution_count": 18,
   "metadata": {},
   "outputs": [],
   "source": [
    "#nhl_list[0]"
   ]
  },
  {
   "cell_type": "code",
   "execution_count": 21,
   "metadata": {},
   "outputs": [],
   "source": [
    "nhl_list.insert(-1, nhl_list.pop(0))"
   ]
  },
  {
   "cell_type": "code",
   "execution_count": 24,
   "metadata": {},
   "outputs": [
    {
     "data": {
      "text/plain": [
       "{'_id': ObjectId('5c638a53a203c535c9db89e6'),\n",
       " '1222': '<td>6</td>, <td>11</td>, <td class=\"primary-sort-column\">1969-71</td>, <td class=\"\">CHI</td>, <td class=\"\"></td>, <td class=\"\"><a href=\"/ice/player.htm?id=8446944\" rel=\"playerLinkData\">\\\\nDave Hudson\\\\n</a></td>, <td class=\"\">C</td>, <td class=\"\">CAN</td>, <td class=\"\">6\\' 0\"</td>, <td class=\"\">185</td>, <td class=\"\">NCAA</td>, <td class=\"\">U. of North Dakota</td>'}"
      ]
     },
     "execution_count": 24,
     "metadata": {},
     "output_type": "execute_result"
    }
   ],
   "source": [
    "nhl_list[-1]"
   ]
  },
  {
   "cell_type": "code",
   "execution_count": 22,
   "metadata": {},
   "outputs": [
    {
     "data": {
      "text/plain": [
       "{'_id': ObjectId('5c6389cea203c535c9db67b0'),\n",
       " '2': '<td>1</td>, <td>2</td>, <td class=\"primary-sort-column\">2018-2</td>, <td class=\"\">CAR</td>, <td class=\"\"></td>, <td class=\"\"><a href=\"/ice/player.htm?id=8480830\" rel=\"playerLinkData\">\\\\nAndrei Svechnikov\\\\n</a></td>, <td class=\"\">RW</td>, <td class=\"\">RUS</td>, <td class=\"\">6\\' 2\"</td>, <td class=\"\">192</td>, <td class=\"\">OHL</td>, <td class=\"\">Barrie</td>'}"
      ]
     },
     "execution_count": 22,
     "metadata": {},
     "output_type": "execute_result"
    }
   ],
   "source": [
    "nhl_list[0]"
   ]
  },
  {
   "cell_type": "code",
   "execution_count": 23,
   "metadata": {},
   "outputs": [
    {
     "data": {
      "text/plain": [
       "{'_id': ObjectId('5c6389cea203c535c9db67b1'),\n",
       " '3': '<td>1</td>, <td>3</td>, <td class=\"primary-sort-column\">2018-3</td>, <td class=\"\">MTL</td>, <td class=\"\"></td>, <td class=\"\"><a href=\"/ice/player.htm?id=8480829\" rel=\"playerLinkData\">\\\\nJesperi Kotkaniemi\\\\n</a></td>, <td class=\"\">C</td>, <td class=\"\">FIN</td>, <td class=\"\">6\\' 2\"</td>, <td class=\"\">181</td>, <td class=\"\">FINLAND</td>, <td class=\"\">Assat</td>'}"
      ]
     },
     "execution_count": 23,
     "metadata": {},
     "output_type": "execute_result"
    }
   ],
   "source": [
    "nhl_list[1]"
   ]
  },
  {
   "cell_type": "code",
   "execution_count": null,
   "metadata": {},
   "outputs": [],
   "source": []
  }
 ],
 "metadata": {
  "kernelspec": {
   "display_name": "Python 3",
   "language": "python",
   "name": "python3"
  },
  "language_info": {
   "codemirror_mode": {
    "name": "ipython",
    "version": 3
   },
   "file_extension": ".py",
   "mimetype": "text/x-python",
   "name": "python",
   "nbconvert_exporter": "python",
   "pygments_lexer": "ipython3",
   "version": "3.7.2"
  }
 },
 "nbformat": 4,
 "nbformat_minor": 2
}
