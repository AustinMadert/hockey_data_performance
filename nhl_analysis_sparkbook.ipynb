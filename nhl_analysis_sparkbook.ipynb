{
 "cells": [
  {
   "cell_type": "markdown",
   "metadata": {},
   "source": [
    "# NHL Draft Performance Analysis"
   ]
  },
  {
   "cell_type": "markdown",
   "metadata": {},
   "source": [
    "This notebook is a rework of an analysis originally run solely in pandas and visualized in matplotlib. To reiterate the initial objective, we are trying to discover whether a relationship exists between the positions draftees play and the drafting teams' performances during the subsequent season. In other words, do the incoming players have much affect on performance? My initial intuition says \"yes\", but we'll explore what the data have to say.\n",
    "\n",
    "Here we'll be using a jupyter pyspark notebook to better show the workflow as well as take Spark for a spin. Specifically, we'll be relying on Spark SQL to allow us to do the data munging needed to accomplish a chi-squared test. Without further ado, the first thing we need to do is import pyspark and create a spark context to work with."
   ]
  },
  {
   "cell_type": "code",
   "execution_count": 1,
   "metadata": {},
   "outputs": [],
   "source": [
    "import pyspark\n",
    "spark = pyspark.sql.SparkSession.builder\\\n",
    "        .master(\"local\")\\\n",
    "        .getOrCreate()"
   ]
  },
  {
   "cell_type": "markdown",
   "metadata": {},
   "source": [
    "Our next step is to get the data loaded into Spark DataFrames. We are working with two different datasets:\n",
    "<ul><strong>1)</strong> A performance dataset that gives teams' win/loss records</ul>\n",
    "<ul><strong>2)</strong> A draftee dataset that gives draftees and their prefered positions</ul>\n",
    "\n",
    "We'll choose to have Spark infer the schema for simplicity's sake because the data types are straight forward, and we'll use the \"failFast\" mode to allow Spark to notify us if anything went wrong with the read."
   ]
  },
  {
   "cell_type": "code",
   "execution_count": 2,
   "metadata": {},
   "outputs": [],
   "source": [
    "performance_df = spark.read.format(\"csv\")\\\n",
    "    .option(\"header\", \"true\")\\\n",
    "    .option(\"inferSchema\", \"true\")\\\n",
    "    .option(\"mode\", \"failFast\")\\\n",
    "    .load(\"performance_data.csv\")\n",
    "\n",
    "draft_df = spark.read.format(\"csv\")\\\n",
    "    .option(\"header\", \"true\")\\\n",
    "    .option(\"inferSchema\", \"true\")\\\n",
    "    .option(\"mode\", \"failFast\")\\\n",
    "    .load(\"draft_data.csv\")"
   ]
  },
  {
   "cell_type": "code",
   "execution_count": 3,
   "metadata": {},
   "outputs": [],
   "source": [
    "draft_df = draft_df.drop(draft_df.pick_points)"
   ]
  },
  {
   "cell_type": "code",
   "execution_count": 4,
   "metadata": {},
   "outputs": [
    {
     "data": {
      "text/plain": [
       "pyspark.sql.dataframe.DataFrame"
      ]
     },
     "execution_count": 4,
     "metadata": {},
     "output_type": "execute_result"
    }
   ],
   "source": [
    "type(performance_df)"
   ]
  },
  {
   "cell_type": "code",
   "execution_count": 5,
   "metadata": {},
   "outputs": [
    {
     "name": "stdout",
     "output_type": "stream",
     "text": [
      "+---+----+----+---+---+---+---------+--------------------+\n",
      "|_c0|Year|Team| GP|  W|  L|year_diff|         wins_change|\n",
      "+---+----+----+---+---+---+---------+--------------------+\n",
      "|232|2007| ANA| 82| 48| 20|     null|                null|\n",
      "|267|2008| ANA| 82| 47| 27|      1.0|-0.02083333333333337|\n",
      "|313|2009| ANA| 82| 42| 33|      1.0| -0.1063829787234043|\n",
      "|345|2010| ANA| 82| 39| 32|      1.0| -0.0714285714285714|\n",
      "|372|2011| ANA| 82| 47| 30|      1.0| 0.20512820512820507|\n",
      "+---+----+----+---+---+---+---------+--------------------+\n",
      "only showing top 5 rows\n",
      "\n"
     ]
    }
   ],
   "source": [
    "performance_df.show(5)"
   ]
  },
  {
   "cell_type": "code",
   "execution_count": 6,
   "metadata": {},
   "outputs": [
    {
     "name": "stdout",
     "output_type": "stream",
     "text": [
      "+---+-----+----+-------+----+------------------+--------+----+------------+\n",
      "|_c0|Round|Pick|Overall|Team|            Player|Position|Year|overall_pick|\n",
      "+---+-----+----+-------+----+------------------+--------+----+------------+\n",
      "|  0|  1.0| 1.0| 2018-1| BUF|     Rasmus Dahlin|       D|2018|           1|\n",
      "|  1|  1.0| 2.0| 2018-2| CAR| Andrei Svechnikov|       F|2018|           2|\n",
      "|  2|  1.0| 3.0| 2018-3| MTL|Jesperi Kotkaniemi|       F|2018|           3|\n",
      "|  3|  1.0| 4.0| 2018-4| OTT|     Brady Tkachuk|       F|2018|           4|\n",
      "|  4|  1.0| 5.0| 2018-5| ARI|    Barrett Hayton|       F|2018|           5|\n",
      "+---+-----+----+-------+----+------------------+--------+----+------------+\n",
      "only showing top 5 rows\n",
      "\n"
     ]
    }
   ],
   "source": [
    "draft_df.show(5)"
   ]
  },
  {
   "cell_type": "markdown",
   "metadata": {},
   "source": [
    "## Feature Engineering\n",
    "\n",
    "Now we can see what we're working with. Our end goal is a Chi-Squared test to understand if a relationship between performance and draftee position exists. Chi-Squared tests rely on contingency tables to analyze two categorical variables for relationship. So, we'll need a categorical variable that represents team performance year over year. We'll also need a categorical variable that represents draftees prefered positions aggregated at the team level. In order to do this, we'll need to do some feature engineering. \n",
    "\n",
    "We'll start with team performance. Using the \"wins_change\" column, which represents percent change in wins year over year, we'll create a column containing a categorical variable describing whether the team went positive or negative."
   ]
  },
  {
   "cell_type": "code",
   "execution_count": 7,
   "metadata": {},
   "outputs": [],
   "source": [
    "from pyspark.sql.functions import udf\n",
    "from pyspark.sql.types import StringType\n",
    "\n",
    "# Create User Defined Function (UDF) to allow us to create categorical column based on wins_change column\n",
    "udf = udf(lambda x: \"positive\" if x >= 0 else \"negative\", StringType())\n",
    "\n",
    "# We drop NaNs from our wins_change column because we cannot use data that doesn't have a percent change YoY\n",
    "performance_df = performance_df.na.drop()\n",
    "\n",
    "# We add the new column using our UDF and the select method; We'll also filter for year_diff == 1\n",
    "name = \"wins_change\"\n",
    "performance_df = performance_df.select(*[udf(column).alias('wins_change_cat') \\\n",
    "                                         if column == name else column \\\n",
    "                                         for column in performance_df.columns]).where(performance_df.year_diff == 1)\n",
    "\n",
    "\n"
   ]
  },
  {
   "cell_type": "code",
   "execution_count": 8,
   "metadata": {},
   "outputs": [
    {
     "name": "stdout",
     "output_type": "stream",
     "text": [
      "+---+----+----+---+---+---+---------+---------------+\n",
      "|_c0|Year|Team| GP|  W|  L|year_diff|wins_change_cat|\n",
      "+---+----+----+---+---+---+---------+---------------+\n",
      "|267|2008| ANA| 82| 47| 27|      1.0|       negative|\n",
      "|313|2009| ANA| 82| 42| 33|      1.0|       negative|\n",
      "|345|2010| ANA| 82| 39| 32|      1.0|       negative|\n",
      "|372|2011| ANA| 82| 47| 30|      1.0|       positive|\n",
      "|419|2012| ANA| 82| 34| 36|      1.0|       negative|\n",
      "+---+----+----+---+---+---+---------+---------------+\n",
      "only showing top 5 rows\n",
      "\n"
     ]
    }
   ],
   "source": [
    "performance_df.show(5)"
   ]
  },
  {
   "cell_type": "markdown",
   "metadata": {},
   "source": [
    "As with several aspects of Pyspark, we can do the above operation another way. We can use the Spark SQL when() function to allow us to create a new column using syntax similar to SQL CASE operations. This allows us to accomplish the same task with a single line of code that is more intuitive and readable. Additionally, we get to circumvent the use of UDFs in Pyspark, which happen to be very costly for each executor."
   ]
  },
  {
   "cell_type": "code",
   "execution_count": 9,
   "metadata": {},
   "outputs": [
    {
     "name": "stdout",
     "output_type": "stream",
     "text": [
      "+---+----+----+---+---+---+---------+--------------------+---------------+\n",
      "|_c0|Year|Team| GP|  W|  L|year_diff|         wins_change|wins_change_cat|\n",
      "+---+----+----+---+---+---+---------+--------------------+---------------+\n",
      "|232|2007| ANA| 82| 48| 20|     null|                null|       negative|\n",
      "|267|2008| ANA| 82| 47| 27|      1.0|-0.02083333333333337|       negative|\n",
      "|313|2009| ANA| 82| 42| 33|      1.0| -0.1063829787234043|       negative|\n",
      "|345|2010| ANA| 82| 39| 32|      1.0| -0.0714285714285714|       negative|\n",
      "|372|2011| ANA| 82| 47| 30|      1.0| 0.20512820512820507|       positive|\n",
      "+---+----+----+---+---+---+---------+--------------------+---------------+\n",
      "only showing top 5 rows\n",
      "\n"
     ]
    }
   ],
   "source": [
    "from pyspark.sql.functions import when\n",
    "\n",
    "# Re-load DataFrame to keep namespace clean\n",
    "when_example = spark.read.format(\"csv\")\\\n",
    "    .option(\"header\", \"true\")\\\n",
    "    .option(\"inferSchema\", \"true\")\\\n",
    "    .option(\"mode\", \"failFast\")\\\n",
    "    .load(\"performance_data.csv\")\n",
    "\n",
    "# Call when().otherwise() within select(), then alias\n",
    "when_example.select(\"*\",\\\n",
    "            when(when_example.wins_change >= 0, \"positive\")\\\n",
    "            .otherwise(\"negative\")\\\n",
    "            .alias(\"wins_change_cat\"))\\\n",
    "            .show(5)\n"
   ]
  },
  {
   "cell_type": "markdown",
   "metadata": {},
   "source": [
    "Great, now we have a categorical representation of performance by team, by year. Next up is to create a feature that represents the team's drafting preferences in regards to player position. We can use a point system to award a heavier weighting to players who were picked earlier in the draft (because we know the draft order for every year). We can then sum the points together and evaluate the preferred position for a team. Let's give it a go with a DataFrame."
   ]
  },
  {
   "cell_type": "code",
   "execution_count": 10,
   "metadata": {},
   "outputs": [
    {
     "name": "stdout",
     "output_type": "stream",
     "text": [
      "+---+-----+----+-------+----+------------------+--------+----+------------+----------+-----------+\n",
      "|_c0|Round|Pick|Overall|Team|            Player|Position|Year|overall_pick|round_mult|pick_points|\n",
      "+---+-----+----+-------+----+------------------+--------+----+------------+----------+-----------+\n",
      "|  0|  1.0| 1.0| 2018-1| BUF|     Rasmus Dahlin|       D|2018|           1|         7|        266|\n",
      "|  1|  1.0| 2.0| 2018-2| CAR| Andrei Svechnikov|       F|2018|           2|         7|        259|\n",
      "|  2|  1.0| 3.0| 2018-3| MTL|Jesperi Kotkaniemi|       F|2018|           3|         7|        252|\n",
      "|  3|  1.0| 4.0| 2018-4| OTT|     Brady Tkachuk|       F|2018|           4|         7|        245|\n",
      "|  4|  1.0| 5.0| 2018-5| ARI|    Barrett Hayton|       F|2018|           5|         7|        238|\n",
      "+---+-----+----+-------+----+------------------+--------+----+------------+----------+-----------+\n",
      "only showing top 5 rows\n",
      "\n"
     ]
    }
   ],
   "source": [
    "from pyspark.sql.functions import sum, max, expr\n",
    "from pyspark.sql.types import IntegerType\n",
    "\n",
    "# First we create a feature that represents a multiplier for the round (higher multipliers for earlier rounds)\n",
    "# There are 7 rounds in every draft, so we subtract from 8 (to avoid a 0 multiplier)\n",
    "draft_df = draft_df.withColumn(\"round_mult\", 8 - draft_df.Round)\n",
    "\n",
    "# We multiply the order of the pick by the multiplier for the round (there are 39 picks per round)\n",
    "draft_df = draft_df.withColumn(\"pick_points\", (draft_df.round_mult * (39 - draft_df.Pick)))\n",
    "\n",
    "# Cast our new columns as integers by creating a new column, casting that new col, then renaming\n",
    "draft_df = draft_df.withColumn(\"rm\", draft_df.round_mult.cast(IntegerType())).drop(\"round_mult\")\\\n",
    "                   .withColumnRenamed(\"rm\", \"round_mult\")\\\n",
    "                   .withColumn(\"pp\", draft_df.pick_points.cast(IntegerType())).drop(\"pick_points\")\\\n",
    "                   .withColumnRenamed(\"pp\", \"pick_points\")\n",
    "\n",
    "draft_df.show(5)"
   ]
  },
  {
   "cell_type": "markdown",
   "metadata": {},
   "source": [
    "Now we need to designate a preferred position for each team, for each year."
   ]
  },
  {
   "cell_type": "code",
   "execution_count": 11,
   "metadata": {},
   "outputs": [
    {
     "name": "stdout",
     "output_type": "stream",
     "text": [
      "+----+----+--------+------------------+\n",
      "|Year|Team|pick_sum|preferred_position|\n",
      "+----+----+--------+------------------+\n",
      "|2010| WSH|     323|                 F|\n",
      "|1979| MNS|    1083|                 F|\n",
      "|2003| FLA|    1260|                 F|\n",
      "|1978| TOR|     618|                 D|\n",
      "|2012| PIT|     462|                 F|\n",
      "+----+----+--------+------------------+\n",
      "only showing top 5 rows\n",
      "\n"
     ]
    }
   ],
   "source": [
    "# First we sum the points by Year, team, and position\n",
    "draft_grouped_df = draft_df.select([\"Year\", \"Team\", \"Position\", \"pick_points\"]) \\\n",
    "                           .groupBy([\"Year\", \"Team\", \"Position\"])\\\n",
    "                           .agg(expr(\"sum(pick_points) AS pick_sum\"))\n",
    "\n",
    "# Next we take the preferred position based on max points\n",
    "join_frame = draft_grouped_df.select([\"Year\", \"Team\", \"Position\", \"pick_sum\"]) \\\n",
    "                                   .groupBy([\"Year\", \"Team\"]).agg(expr(\"max(pick_sum) AS pick_sum\"))\n",
    "\n",
    "# Add the position column back into our max points DataFrame\n",
    "draft_grouped_df = join_frame.join(draft_grouped_df, on=[\"Year\", \"Team\", \"pick_sum\"], how='left')\\\n",
    "                             .withColumnRenamed(\"Position\", \"preferred_position\")\n",
    "                                   \n",
    "\n",
    "draft_grouped_df.show(5)"
   ]
  },
  {
   "cell_type": "code",
   "execution_count": 12,
   "metadata": {},
   "outputs": [
    {
     "name": "stdout",
     "output_type": "stream",
     "text": [
      "root\n",
      " |-- Year: integer (nullable = true)\n",
      " |-- Team: string (nullable = true)\n",
      " |-- pick_sum: long (nullable = true)\n",
      " |-- preferred_position: string (nullable = true)\n",
      "\n"
     ]
    }
   ],
   "source": [
    "draft_grouped_df.printSchema()"
   ]
  },
  {
   "cell_type": "code",
   "execution_count": 13,
   "metadata": {},
   "outputs": [
    {
     "name": "stdout",
     "output_type": "stream",
     "text": [
      "+----+----+--------+------------------+\n",
      "|Year|Team|pick_sum|preferred_position|\n",
      "+----+----+--------+------------------+\n",
      "|2010| WSH|     323|                 F|\n",
      "|1979| MNS|    1083|                 F|\n",
      "|2003| FLA|    1260|                 F|\n",
      "|1978| TOR|     618|                 D|\n",
      "|2012| PIT|     462|                 F|\n",
      "+----+----+--------+------------------+\n",
      "only showing top 5 rows\n",
      "\n"
     ]
    }
   ],
   "source": [
    "from pyspark.sql.functions import col\n",
    "\n",
    "# Cleaning values in position column to reflect a generic \"F\" for forward position\n",
    "draft_grouped_df = draft_grouped_df.withColumn(\"new\", when(col(\"preferred_position\").like(\"LW/D\"), \"F\")\\\n",
    "                           .when(col(\"preferred_position\").like(\"LW/RW\"), \"F\")\\\n",
    "                           .when(col(\"preferred_position\").like(\"C/RW\"), \"F\")\\\n",
    "                           .when(col(\"preferred_position\").like(\"C/LW\"), \"F\")\\\n",
    "                           .otherwise(col(\"preferred_position\")))\\\n",
    "                           .drop(\"preferred_position\")\\\n",
    "                           .withColumnRenamed(\"new\", \"preferred_position\")\\\n",
    "                           .dropna()\n",
    "\n",
    "draft_grouped_df.show(5)"
   ]
  },
  {
   "cell_type": "markdown",
   "metadata": {},
   "source": [
    "## Joining the Tables\n",
    "\n",
    "Now that we've got a preferred position categorical feature for each team during each season, we'll use team and year to join the two categorical variables. To accomplish this we'll use SQL queries."
   ]
  },
  {
   "cell_type": "code",
   "execution_count": 14,
   "metadata": {},
   "outputs": [
    {
     "name": "stdout",
     "output_type": "stream",
     "text": [
      "+------------------+---------------+-----------+-----------+\n",
      "|preferred_position|wins_change_cat|count(Year)|count(Team)|\n",
      "+------------------+---------------+-----------+-----------+\n",
      "|                 D|       negative|        103|        103|\n",
      "|                 D|       positive|        134|        134|\n",
      "|                 F|       negative|        372|        372|\n",
      "|                 F|       positive|        371|        371|\n",
      "|                 G|       negative|          8|          8|\n",
      "|                 G|       positive|          6|          6|\n",
      "+------------------+---------------+-----------+-----------+\n",
      "\n"
     ]
    }
   ],
   "source": [
    "from pyspark.sql.functions import count\n",
    "\n",
    "# First we need to register the DataFrames as Tables\n",
    "performance_df.createOrReplaceTempView(\"performanceTable\")\n",
    "draft_grouped_df.createOrReplaceTempView(\"draftTable\")\n",
    "\n",
    "# Next we write our query and then use the Spark Context to query the tables\n",
    "query = \"\"\"\n",
    "SELECT d.preferred_position, p.wins_change_cat, count(d.Year), count(d.Team) FROM draftTable d\n",
    "INNER JOIN performanceTable p ON p.Year=d.Year\n",
    "AND p.Team=d.Team\n",
    "GROUP BY d.preferred_position, p.wins_change_cat\n",
    "ORDER BY d.preferred_position, p.wins_change_cat\n",
    "\"\"\"\n",
    "result = spark.sql(query)\n",
    "result.show()"
   ]
  },
  {
   "cell_type": "markdown",
   "metadata": {},
   "source": [
    "We are now one step away from our contingency matrix. We need to pivot the wins_change_cat and sum the year and team columns."
   ]
  },
  {
   "cell_type": "code",
   "execution_count": 15,
   "metadata": {},
   "outputs": [
    {
     "name": "stdout",
     "output_type": "stream",
     "text": [
      "+------------------+--------+--------+\n",
      "|preferred_position|negative|positive|\n",
      "+------------------+--------+--------+\n",
      "|                 F|     372|     371|\n",
      "|                 D|     103|     134|\n",
      "|                 G|       8|       6|\n",
      "+------------------+--------+--------+\n",
      "\n"
     ]
    }
   ],
   "source": [
    "contingency = result.select(['preferred_position', 'wins_change_cat', 'count(Year)']) \\\n",
    "        .groupBy('preferred_position').pivot('wins_change_cat').sum()\n",
    "\n",
    "contingency.show()"
   ]
  },
  {
   "cell_type": "markdown",
   "metadata": {},
   "source": [
    "And there we have it! A contingency table that we can use to run our Chi Squared Test. From here we'll rely on the original code from the analysis to run the test and graph the results."
   ]
  },
  {
   "cell_type": "markdown",
   "metadata": {},
   "source": [
    "## Chi-Squared Test and Plotting"
   ]
  },
  {
   "cell_type": "code",
   "execution_count": 16,
   "metadata": {},
   "outputs": [],
   "source": [
    "import numpy as np\n",
    "from scipy.stats import chi2_contingency, chi2\n",
    "import matplotlib.pyplot as plt\n",
    "%matplotlib inline\n",
    "plt.style.use('ggplot')"
   ]
  },
  {
   "cell_type": "code",
   "execution_count": 17,
   "metadata": {},
   "outputs": [
    {
     "data": {
      "image/png": "[encoded data removed]",
      "text/plain": [
       "<Figure size 864x576 with 1 Axes>"
      ]
     },
     "metadata": {
      "needs_background": "light"
     },
     "output_type": "display_data"
    }
   ],
   "source": [
    "pd_df = contingency.toPandas()\n",
    "chi_test_data = pd_df.values.T[1:, :]\n",
    "\n",
    "cs_result, pval_result, df, exp_result = chi2_contingency(chi_test_data)\n",
    "\n",
    "df = 2\n",
    "x = np.linspace(chi2.ppf(0.001, df), chi2.ppf(0.999, df), 200)\n",
    "rv = chi2(df)\n",
    "\n",
    "val = chi2.ppf(0.95, df)\n",
    "\n",
    "fig, ax = plt.subplots(figsize=(12,8))\n",
    "ax.plot(x, rv.pdf(x), lw=3, label='Chi2 df=2', color='green')\n",
    "ax.axvline(cs_result, color='k', linestyle='--', label='Test Statistic')\n",
    "ax.axvline(val, color='k', label='Critical Value')\n",
    "xprime = np.linspace(val, chi2.ppf(.999, df), 200)\n",
    "ax.fill_between(xprime, 0, chi2.pdf(xprime, df), color='red', alpha=.3, label='Rejection Region')\n",
    "ax.set_title('Test Results Under Chi-Squared Distribution')\n",
    "ax.set_xlabel('Chi-Squared')\n",
    "ax.set_ylabel('Probability Density')\n",
    "plt.legend(loc='upper right');"
   ]
  },
  {
   "cell_type": "markdown",
   "metadata": {},
   "source": [
    "## Conclusion and Final Thoughts"
   ]
  },
  {
   "cell_type": "markdown",
   "metadata": {},
   "source": [
    "The test resulted in a test statistic of 3.61, which under the chi-squared distribution where degrees of freedom were 2, yielded a p-value of 0.16. This value fell well outside the rejection region of 0.05. We therefore cannot conclude on the relationship between position preference and performance given the data.\n",
    "\n",
    "Although the test statistic fell outside the rejection region, my interpretation is that there still might be a relationship that we weren't able to conclude on. The test statistic fell ahead of the distribution mean, and more intuitively it makes sense that incoming players to a team's roster would have impact on their season performance. My ultimate conclusion is a call for further study and the inclusion of more data. I think this can be broached in two different ways. A more broad inclusion of player data to include all incoming players to a team and their position. This would likely represent a need for player trade data. Another more granular approach to increasing the data would be to include player specific statistics. It makes sense that player history would give some insight into how that player might impact team-level performance.\n",
    "\n",
    "Finally, we got to showcase some of Spark SQL's ability in this analysis to engineer features and allow us to compare and munge across multiple data sources. Often the code was more succinct than the original analysis and more readable as well. Although this dataset was essentially a toy dataset with respect to size, if we were to follow the above recommendation and acquire additional player trade data and player performance data on the game level, then the data set would grow fast and potentially represent an actual workload for a cluster. At the very least it was a great opportunity to get our feet wet with Spark SQL functionality."
   ]
  }
 ],
 "metadata": {
  "kernelspec": {
   "display_name": "Python 3",
   "language": "python",
   "name": "python3"
  },
  "language_info": {
   "codemirror_mode": {
    "name": "ipython",
    "version": 3
   },
   "file_extension": ".py",
   "mimetype": "text/x-python",
   "name": "python",
   "nbconvert_exporter": "python",
   "pygments_lexer": "ipython3",
   "version": "3.6.8"
  }
 },
 "nbformat": 4,
 "nbformat_minor": 2
}
