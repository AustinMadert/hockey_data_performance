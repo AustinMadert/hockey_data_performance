{
 "cells": [
  {
   "cell_type": "code",
   "execution_count": 1,
   "metadata": {},
   "outputs": [],
   "source": [
    "from pymongo import MongoClient\n",
    "import re\n",
    "import pandas as pd"
   ]
  },
  {
   "cell_type": "code",
   "execution_count": 2,
   "metadata": {},
   "outputs": [],
   "source": [
    "client = MongoClient()\n",
    "database = client['hockey_stats']\n",
    "espn_mongo_collection = database['espn']"
   ]
  },
  {
   "cell_type": "code",
   "execution_count": 3,
   "metadata": {},
   "outputs": [],
   "source": [
    "espn_cursor = espn_mongo_collection.find()\n",
    "espn_list = list(espn_cursor)"
   ]
  },
  {
   "cell_type": "code",
   "execution_count": 4,
   "metadata": {},
   "outputs": [
    {
     "data": {
      "text/plain": [
       "928"
      ]
     },
     "execution_count": 4,
     "metadata": {},
     "output_type": "execute_result"
    }
   ],
   "source": [
    "len(espn_list)"
   ]
  },
  {
   "cell_type": "code",
   "execution_count": 9,
   "metadata": {},
   "outputs": [],
   "source": [
    "del espn_list[0]"
   ]
  },
  {
   "cell_type": "code",
   "execution_count": 14,
   "metadata": {},
   "outputs": [
    {
     "data": {
      "text/plain": [
       "{'0': '<td class=\"ttu small-col Table2__td\"><span class=\"fw-medium w-100 dib ttu small-col\">Date</span></td>, <td class=\"ttu opponent-col Table2__td\"><span class=\"fw-medium w-100 dib ttu opponent-col\">Opponent</span></td>, <td class=\"ttu small-col Table2__td\"><span class=\"fw-medium w-100 dib ttu small-col\">Result</span></td>, <td class=\"ttu small-col Table2__td\"><span class=\"fw-medium w-100 dib ttu small-col\">W-L-OTL</span></td>, <td class=\"ttu athlete-col Table2__td\"><span class=\"fw-medium w-100 dib ttu athlete-col\">Goalie</span></td>, <td class=\"ttu athlete-col Table2__td\"><span class=\"fw-medium w-100 dib ttu athlete-col\">Top Performer</span></td>, <td class=\"Table2__td\"><span>Sun, Sep 20</span></td>, <td class=\"Table2__td\"><div class=\"flex items-center opponent-logo\"><span class=\"pr2\">vs</span><span class=\"tc pr2\" style=\"width:20px;height:20px\"><a href=\"/nhl/team/_/name/fla/florida-panthers\"><img alt=\"Florida\" src=\"https://a.espncdn.com/combiner/i?img=/i/teamlogos/nhl/500/fla.png&amp;w=50&amp;h=50\" title=\"Florida\"/> </a></span><span><a href=\"/nhl/team/_/name/fla/florida-panthers\">Florida<!-- --> </a></span></div></td>, <td class=\"Table2__td\"><span class=\"fw-bold clr-positive\">W</span><span class=\"ml4\"><a href=\"http://www.espn.com/nhl/game/_/gameId/400814801\" to=\"http://www.espn.com/nhl/game/_/gameId/400814801\">5-2 <!-- --> </a></span></td>, <td class=\"Table2__td\"><span>1-0-0</span></td>, <td class=\"Table2__td\"><span><a href=\"http://www.espn.com/nhl/player/_/id/5420\" to=\"http://www.espn.com/nhl/player/_/id/5420\">Hutton<!-- --> </a> </span></td>, <td class=\"Table2__td\"><span><a href=\"http://www.espn.com/nhl/player/_/id/2968772\" to=\"http://www.espn.com/nhl/player/_/id/2968772\">Forsberg<!-- --> </a> </span></td>, <td class=\"Table2__td\"><span>Sun, Sep 20</span></td>, <td class=\"Table2__td\"><div class=\"flex items-center opponent-logo\"><span class=\"pr2\">vs</span><span class=\"tc pr2\" style=\"width:20px;height:20px\"><a href=\"/nhl/team/_/name/fla/florida-panthers\"><img alt=\"Florida\" src=\"https://a.espncdn.com/combiner/i?img=/i/teamlogos/nhl/500/fla.png&amp;w=50&amp;h=50\" title=\"Florida\"/> </a></span><span><a href=\"/nhl/team/_/name/fla/florida-panthers\">Florida<!-- --> </a></span></div></td>, <td class=\"Table2__td\"><span class=\"fw-bold clr-negative\">L</span><span class=\"ml4\"><a href=\"http://www.espn.com/nhl/game/_/gameId/400814802\" to=\"http://www.espn.com/nhl/game/_/gameId/400814802\">3-2 OT<!-- --> </a></span></td>, <td class=\"Table2__td\"><span>1-0-1</span></td>, <td class=\"Table2__td\"><span><a href=\"http://www.espn.com/nhl/player/_/id/3042109\" to=\"http://www.espn.com/nhl/player/_/id/3042109\">Saros<!-- --> </a> </span></td>, <td class=\"Table2__td\"><span><a href=\"http://www.espn.com/nhl/player/_/id/276\" to=\"http://www.espn.com/nhl/player/_/id/276\">Fisher<!-- --> </a> </span></td>, <td class=\"Table2__td\"><span>Tue, Sep 22</span></td>, <td class=\"Table2__td\"><div class=\"flex items-center opponent-logo\"><span class=\"pr2\">@</span><span class=\"tc pr2\" style=\"width:20px;height:20px\"><a href=\"/nhl/team/_/name/tb/tampa-bay-lightning\"><img alt=\"Tampa Bay\" src=\"https://a.espncdn.com/combiner/i?img=/i/teamlogos/nhl/500/tb.png&amp;w=50&amp;h=50\" title=\"Tampa Bay\"/> </a></span><span><a href=\"/nhl/team/_/name/tb/tampa-bay-lightning\">Tampa Bay<!-- --> </a></span></div></td>, <td class=\"Table2__td\"><span class=\"fw-bold clr-positive\">W</span><span class=\"ml4\"><a href=\"http://www.espn.com/nhl/game/_/gameId/400814560\" to=\"http://www.espn.com/nhl/game/_/gameId/400814560\">3-2 OT<!-- --> </a></span></td>, <td class=\"Table2__td\"><span>2-0-1</span></td>, <td class=\"Table2__td\"><span><a href=\"http://www.espn.com/nhl/player/_/id/5420\" to=\"http://www.espn.com/nhl/player/_/id/5420\">Hutton<!-- --> </a> </span></td>, <td class=\"Table2__td\"><span><a href=\"http://www.espn.com/nhl/player/_/id/5420\" to=\"http://www.espn.com/nhl/player/_/id/5420\">Hutton<!-- --> </a> </span></td>, <td class=\"Table2__td\"><span>Wed, Sep 23</span></td>, <td class=\"Table2__td\"><div class=\"flex items-center opponent-logo\"><span class=\"pr2\">vs</span><span class=\"tc pr2\" style=\"width:20px;height:20px\"><a href=\"/nhl/team/_/name/tb/tampa-bay-lightning\"><img alt=\"Tampa Bay\" src=\"https://a.espncdn.com/combiner/i?img=/i/teamlogos/nhl/500/tb.png&amp;w=50&amp;h=50\" title=\"Tampa Bay\"/> </a></span><span><a href=\"/nhl/team/_/name/tb/tampa-bay-lightning\">Tampa Bay<!-- --> </a></span></div></td>, <td class=\"Table2__td\"><span class=\"fw-bold clr-positive\">W</span><span class=\"ml4\"><a href=\"http://www.espn.com/nhl/game/_/gameId/400814566\" to=\"http://www.espn.com/nhl/game/_/gameId/400814566\">5-2 <!-- --> </a></span></td>, <td class=\"Table2__td\"><span>3-0-1</span></td>, <td class=\"Table2__td\"><span><a href=\"http://www.espn.com/nhl/player/_/id/3157\" to=\"http://www.espn.com/nhl/player/_/id/3157\">Rinne<!-- --> </a> </span></td>, <td class=\"Table2__td\"><span><a href=\"http://www.espn.com/nhl/player/_/id/2570752\" to=\"http://www.espn.com/nhl/player/_/id/2570752\">Smith<!-- --> </a> </span></td>, <td class=\"Table2__td\"><span>Tue, Sep 29</span></td>, <td class=\"Table2__td\"><div class=\"flex items-center opponent-logo\"><span class=\"pr2\">vs</span><span class=\"tc pr2\" style=\"width:20px;height:20px\"><a href=\"/nhl/team/_/name/cbj/columbus-blue-jackets\"><img alt=\"Columbus\" src=\"https://a.espncdn.com/combiner/i?img=/i/teamlogos/nhl/500/cbj.png&amp;w=50&amp;h=50\" title=\"Columbus\"/> </a></span><span><a href=\"/nhl/team/_/name/cbj/columbus-blue-jackets\">Columbus<!-- --> </a></span></div></td>, <td class=\"Table2__td\"><span class=\"fw-bold clr-negative\">L</span><span class=\"ml4\"><a href=\"http://www.espn.com/nhl/game/_/gameId/400814607\" to=\"http://www.espn.com/nhl/game/_/gameId/400814607\">5-2 <!-- --> </a></span></td>, <td class=\"Table2__td\"><span>3-1-1</span></td>, <td class=\"Table2__td\"><span><a href=\"http://www.espn.com/nhl/player/_/id/5420\" to=\"http://www.espn.com/nhl/player/_/id/5420\">Hutton<!-- --> </a> </span></td>, <td class=\"Table2__td\"><span><a href=\"http://www.espn.com/nhl/player/_/id/5366\" to=\"http://www.espn.com/nhl/player/_/id/5366\">Wilson<!-- --> </a> </span></td>, <td class=\"Table2__td\"><span>Sat, Oct 3</span></td>, <td class=\"Table2__td\"><div class=\"flex items-center opponent-logo\"><span class=\"pr2\">@</span><span class=\"tc pr2\" style=\"width:20px;height:20px\"><a href=\"/nhl/team/_/name/cbj/columbus-blue-jackets\"><img alt=\"Columbus\" src=\"https://a.espncdn.com/combiner/i?img=/i/teamlogos/nhl/500/cbj.png&amp;w=50&amp;h=50\" title=\"Columbus\"/> </a></span><span><a href=\"/nhl/team/_/name/cbj/columbus-blue-jackets\">Columbus<!-- --> </a></span></div></td>, <td class=\"Table2__td\"><span class=\"fw-bold clr-negative\">L</span><span class=\"ml4\"><a href=\"http://www.espn.com/nhl/game/_/gameId/400814631\" to=\"http://www.espn.com/nhl/game/_/gameId/400814631\">7-1 <!-- --> </a></span></td>, <td class=\"Table2__td\"><span>3-2-1</span></td>, <td class=\"Table2__td\"><span><a href=\"http://www.espn.com/nhl/player/_/id/3157\" to=\"http://www.espn.com/nhl/player/_/id/3157\">Rinne<!-- --> </a> </span></td>, <td class=\"Table2__td\"><span><a href=\"http://www.espn.com/nhl/player/_/id/5097\" to=\"http://www.espn.com/nhl/player/_/id/5097\">Hodgson<!-- --> </a> </span></td>'}"
      ]
     },
     "execution_count": 14,
     "metadata": {},
     "output_type": "execute_result"
    }
   ],
   "source": [
    "espn_list[0]"
   ]
  },
  {
   "cell_type": "code",
   "execution_count": 10,
   "metadata": {},
   "outputs": [],
   "source": [
    "espn_dup_list = espn_list"
   ]
  },
  {
   "cell_type": "code",
   "execution_count": 11,
   "metadata": {},
   "outputs": [],
   "source": [
    "for dictionary in espn_dup_list:\n",
    "    del dictionary['_id']"
   ]
  },
  {
   "cell_type": "code",
   "execution_count": 12,
   "metadata": {},
   "outputs": [],
   "source": [
    "clean = [re.sub(r'<.+?>', '', list(espn_dup_list[ind].values())[0]) for ind, val in enumerate(espn_dup_list)]"
   ]
  },
  {
   "cell_type": "code",
   "execution_count": 13,
   "metadata": {},
   "outputs": [
    {
     "data": {
      "text/plain": [
       "'Date, Opponent, Result, W-L-OTL, Goalie, Top Performer, Sun, Sep 20, vs Florida , W5-2  , 1-0-0, Hutton  , Forsberg  , Sun, Sep 20, vs Florida , L3-2 OT , 1-0-1, Saros  , Fisher  , Tue, Sep 22, @ Tampa Bay , W3-2 OT , 2-0-1, Hutton  , Hutton  , Wed, Sep 23, vs Tampa Bay , W5-2  , 3-0-1, Rinne  , Smith  , Tue, Sep 29, vs Columbus , L5-2  , 3-1-1, Hutton  , Wilson  , Sat, Oct 3, @ Columbus , L7-1  , 3-2-1, Rinne  , Hodgson  '"
      ]
     },
     "execution_count": 13,
     "metadata": {},
     "output_type": "execute_result"
    }
   ],
   "source": [
    "clean[0]"
   ]
  },
  {
   "cell_type": "code",
   "execution_count": null,
   "metadata": {},
   "outputs": [],
   "source": []
  }
 ],
 "metadata": {
  "kernelspec": {
   "display_name": "Python 3",
   "language": "python",
   "name": "python3"
  },
  "language_info": {
   "codemirror_mode": {
    "name": "ipython",
    "version": 3
   },
   "file_extension": ".py",
   "mimetype": "text/x-python",
   "name": "python",
   "nbconvert_exporter": "python",
   "pygments_lexer": "ipython3",
   "version": "3.7.2"
  }
 },
 "nbformat": 4,
 "nbformat_minor": 2
}
